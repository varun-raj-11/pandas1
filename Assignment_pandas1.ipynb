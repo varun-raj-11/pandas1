{
 "cells": [
  {
   "cell_type": "markdown",
   "id": "b5e1e3d6",
   "metadata": {},
   "source": [
    "# Q1. Create a Pandas Series that contains the following data: 4, 8, 15, 16, 23, and 42. Then, print the series."
   ]
  },
  {
   "cell_type": "code",
   "execution_count": 3,
   "id": "a0eb7ebf",
   "metadata": {},
   "outputs": [
    {
     "name": "stdout",
     "output_type": "stream",
     "text": [
      "[4, 8, 15, 16, 23, 42]\n"
     ]
    }
   ],
   "source": [
    "df=[ 4, 8, 15, 16, 23, 42]\n",
    "print(df)"
   ]
  },
  {
   "cell_type": "markdown",
   "id": "d093ede8",
   "metadata": {},
   "source": [
    "# Q2. Create a variable of list type containing 10 elements in it, and apply pandas.Series function on the  variable print it."
   ]
  },
  {
   "cell_type": "code",
   "execution_count": 14,
   "id": "e4bf9542",
   "metadata": {},
   "outputs": [
    {
     "name": "stdout",
     "output_type": "stream",
     "text": [
      "0     1\n",
      "1     2\n",
      "2     3\n",
      "3     4\n",
      "4     5\n",
      "5     6\n",
      "6     7\n",
      "7     8\n",
      "8     9\n",
      "9    10\n",
      "dtype: int64\n"
     ]
    }
   ],
   "source": [
    "import pandas as pd\n",
    "df1=[1,2,3,4,5,6,7,8,9,10]\n",
    "s=pd.Series(df1)\n",
    "print(s)\n"
   ]
  },
  {
   "cell_type": "markdown",
   "id": "8b01ceb1",
   "metadata": {},
   "source": [
    "# Q3. Create a Pandas DataFrame that contains the following data:Then, print the DataFrame."
   ]
  },
  {
   "cell_type": "code",
   "execution_count": 18,
   "id": "74ba3653",
   "metadata": {},
   "outputs": [
    {
     "name": "stdout",
     "output_type": "stream",
     "text": [
      "      Name  Age         City\n",
      "0    Alice   25     New York\n",
      "1      Bob   30  Los Angeles\n",
      "2  Charlie   27      Chicago\n"
     ]
    }
   ],
   "source": [
    "import pandas as pd\n",
    "\n",
    "# Sample data\n",
    "data = {\n",
    "    'Name': ['Alice', 'Bob', 'Charlie'],\n",
    "    'Age': [25, 30, 27],\n",
    "    'City': ['New York', 'Los Angeles', 'Chicago']\n",
    "}\n",
    "\n",
    "# Creating the DataFrame\n",
    "df = pd.DataFrame(data)\n",
    "\n",
    "# Printing the DataFrame\n",
    "print(df)\n"
   ]
  },
  {
   "cell_type": "markdown",
   "id": "b861c048",
   "metadata": {},
   "source": [
    "# Q4. What is ‘DataFrame’ in pandas and how is it different from pandas.series? Explain with an example."
   ]
  },
  {
   "cell_type": "code",
   "execution_count": 20,
   "id": "b55beef1",
   "metadata": {},
   "outputs": [
    {
     "data": {
      "text/plain": [
       "'Key Differences:\\nDimensions:\\n\\nSeries: One-dimensional (1D).\\nDataFrame: Two-dimensional (2D).\\nData Structure:\\n\\nSeries: Essentially a single column of data.\\nDataFrame: Multiple columns of data, each of which can be a Series.\\nIndexing:\\n\\nSeries: Indexed by a single set of labels.\\nDataFrame: Indexed by both rows and columns.'"
      ]
     },
     "execution_count": 20,
     "metadata": {},
     "output_type": "execute_result"
    }
   ],
   "source": [
    "'''Key Differences:\n",
    "Dimensions:\n",
    "\n",
    "Series: One-dimensional (1D).\n",
    "DataFrame: Two-dimensional (2D).\n",
    "Data Structure:\n",
    "\n",
    "Series: Essentially a single column of data.\n",
    "DataFrame: Multiple columns of data, each of which can be a Series.\n",
    "Indexing:\n",
    "\n",
    "Series: Indexed by a single set of labels.\n",
    "DataFrame: Indexed by both rows and columns.'''"
   ]
  },
  {
   "cell_type": "markdown",
   "id": "398ace20",
   "metadata": {},
   "source": [
    "# Q5. What are some common functions you can use to manipulate data in a Pandas DataFrame? Can you give an example of when you might use one of these functions?"
   ]
  },
  {
   "cell_type": "code",
   "execution_count": 21,
   "id": "9bb55a83",
   "metadata": {},
   "outputs": [
    {
     "data": {
      "text/plain": [
       "\"unction\\tDescription\\tExample\\nread_csv()\\tReads a CSV file into a DataFrame\\tpd.read_csv('file.csv')\\nto_csv()\\tWrites a DataFrame to a CSV file\\tdf.to_csv('file.csv')\\nhead()\\tReturns the first n rows of the DataFrame\\tdf.head(5)\\ntail()\\tReturns the last n rows of the DataFrame\\tdf.tail(5)\\ninfo()\\tProvides a concise summary of the DataFrame\\tdf.info()\\ndescribe()\\tGenerates descriptive statistics of the DataFrame\\tdf.describe()\\nshape\\tReturns the dimensions of the DataFrame (rows, columns)\\tdf.shape\\ncolumns\\tReturns the column labels of the DataFrame\\tdf.columns\\nindex\\tReturns the index (row labels) of the DataFrame\\tdf.index\\ndtypes\\tReturns the data types of each column\\tdf.dtypes\\nsort_values()\\tSorts the DataFrame by the specified column(s)\\tdf.sort_values('column_name')\\nsort_index()\\tSorts the DataFrame by its index\\tdf.sort_index()\\ndrop()\\tDrops specified labels from rows or columns\\tdf.drop('column_name', axis=1)\\ndropna()\\tDrops rows with missing values\\tdf.dropna()\\nfillna()\\tFills missing values with a specified value\\tdf.fillna(0)\\nisna()\\tDetects missing values in the DataFrame\\tdf.isna()\\napply()\\tApplies a function along an axis of the DataFrame\\tdf.apply(np.sqrt)\\nmap()\\tMaps values of a Series using input correspondence\\tdf['column_name'].map({'A': 1, 'B': 2})\\ngroupby()\\tGroups the DataFrame using a mapper or by a Series of columns\\tdf.groupby('column_name')\\nmerge()\\tMerges DataFrame or named Series objects with a database-style join\\tpd.merge(df1, df2, on='key')\\nconcat()\\tConcatenates pandas objects along a particular axis\\tpd.concat([df1, df2])\\npivot_table()\\tCreates a pivot table based on the DataFrame\\tdf.pivot_table(values='D', index='A', columns='B')\\nmelt()\\tUnpivots a DataFrame from wide format to long format\\tpd.melt(df, id_vars=['A'], value_vars=['B', 'C'])\\nastype()\\tCasts a pandas object to a specified dtype\\tdf['column_name'].astype(float)\\nset_index()\\tSets the DataFrame index using existing columns\\tdf.set_index('column_name')\\nreset_index()\\tResets the index of the DataFrame to the default integer index\\tdf.reset_index()\""
      ]
     },
     "execution_count": 21,
     "metadata": {},
     "output_type": "execute_result"
    }
   ],
   "source": [
    "'''unction\tDescription\tExample\n",
    "read_csv()\tReads a CSV file into a DataFrame\tpd.read_csv('file.csv')\n",
    "to_csv()\tWrites a DataFrame to a CSV file\tdf.to_csv('file.csv')\n",
    "head()\tReturns the first n rows of the DataFrame\tdf.head(5)\n",
    "tail()\tReturns the last n rows of the DataFrame\tdf.tail(5)\n",
    "info()\tProvides a concise summary of the DataFrame\tdf.info()\n",
    "describe()\tGenerates descriptive statistics of the DataFrame\tdf.describe()\n",
    "shape\tReturns the dimensions of the DataFrame (rows, columns)\tdf.shape\n",
    "columns\tReturns the column labels of the DataFrame\tdf.columns\n",
    "index\tReturns the index (row labels) of the DataFrame\tdf.index\n",
    "dtypes\tReturns the data types of each column\tdf.dtypes\n",
    "sort_values()\tSorts the DataFrame by the specified column(s)\tdf.sort_values('column_name')\n",
    "sort_index()\tSorts the DataFrame by its index\tdf.sort_index()\n",
    "drop()\tDrops specified labels from rows or columns\tdf.drop('column_name', axis=1)\n",
    "dropna()\tDrops rows with missing values\tdf.dropna()\n",
    "fillna()\tFills missing values with a specified value\tdf.fillna(0)\n",
    "isna()\tDetects missing values in the DataFrame\tdf.isna()\n",
    "apply()\tApplies a function along an axis of the DataFrame\tdf.apply(np.sqrt)\n",
    "map()\tMaps values of a Series using input correspondence\tdf['column_name'].map({'A': 1, 'B': 2})\n",
    "groupby()\tGroups the DataFrame using a mapper or by a Series of columns\tdf.groupby('column_name')\n",
    "merge()\tMerges DataFrame or named Series objects with a database-style join\tpd.merge(df1, df2, on='key')\n",
    "concat()\tConcatenates pandas objects along a particular axis\tpd.concat([df1, df2])\n",
    "pivot_table()\tCreates a pivot table based on the DataFrame\tdf.pivot_table(values='D', index='A', columns='B')\n",
    "melt()\tUnpivots a DataFrame from wide format to long format\tpd.melt(df, id_vars=['A'], value_vars=['B', 'C'])\n",
    "astype()\tCasts a pandas object to a specified dtype\tdf['column_name'].astype(float)\n",
    "set_index()\tSets the DataFrame index using existing columns\tdf.set_index('column_name')\n",
    "reset_index()\tResets the index of the DataFrame to the default integer index\tdf.reset_index()'''"
   ]
  },
  {
   "cell_type": "markdown",
   "id": "8e8fa2f7",
   "metadata": {},
   "source": [
    "# Q6. Which of the following is mutable in nature Series, DataFrame, Panel?"
   ]
  },
  {
   "cell_type": "code",
   "execution_count": 23,
   "id": "749f50cc",
   "metadata": {},
   "outputs": [
    {
     "ename": "SyntaxError",
     "evalue": "invalid syntax (132184815.py, line 1)",
     "output_type": "error",
     "traceback": [
      "\u001b[1;36m  File \u001b[1;32m\"C:\\Users\\Varun Raj\\AppData\\Local\\Temp\\ipykernel_27904\\132184815.py\"\u001b[1;36m, line \u001b[1;32m1\u001b[0m\n\u001b[1;33m    In pandas, both Series and DataFrame are mutable in nature. This means that you can change their contents after they have been created\u001b[0m\n\u001b[1;37m       ^\u001b[0m\n\u001b[1;31mSyntaxError\u001b[0m\u001b[1;31m:\u001b[0m invalid syntax\n"
     ]
    }
   ],
   "source": [
    "In pandas, both Series and DataFrame are mutable in nature. This means that you can change their contents after they have been created"
   ]
  },
  {
   "cell_type": "code",
   "execution_count": 24,
   "id": "5579233f",
   "metadata": {},
   "outputs": [
    {
     "name": "stdout",
     "output_type": "stream",
     "text": [
      "Original DataFrame:\n",
      "    A  B\n",
      "0  1  4\n",
      "1  2  5\n",
      "2  3  6\n",
      "Modified DataFrame:\n",
      "     A  B\n",
      "0  10  4\n",
      "1   2  5\n",
      "2   3  6\n",
      "DataFrame with new column:\n",
      "     A  B  C\n",
      "0  10  4  7\n",
      "1   2  5  8\n",
      "2   3  6  9\n"
     ]
    }
   ],
   "source": [
    "import pandas as pd\n",
    "\n",
    "# Creating a DataFrame\n",
    "df = pd.DataFrame({'A': [1, 2, 3], 'B': [4, 5, 6]})\n",
    "print(\"Original DataFrame:\\n\", df)\n",
    "\n",
    "# Modifying a value\n",
    "df.at[0, 'A'] = 10\n",
    "print(\"Modified DataFrame:\\n\", df)\n",
    "\n",
    "# Adding a new column\n",
    "df['C'] = [7, 8, 9]\n",
    "print(\"DataFrame with new column:\\n\", df)\n"
   ]
  },
  {
   "cell_type": "code",
   "execution_count": 25,
   "id": "6faaffa0",
   "metadata": {},
   "outputs": [
    {
     "name": "stdout",
     "output_type": "stream",
     "text": [
      "Original Series:\n",
      " 0    1\n",
      "1    2\n",
      "2    3\n",
      "dtype: int64\n",
      "Modified Series:\n",
      " 0    10\n",
      "1     2\n",
      "2     3\n",
      "dtype: int64\n"
     ]
    }
   ],
   "source": [
    "import pandas as pd\n",
    "\n",
    "# Creating a Series\n",
    "s = pd.Series([1, 2, 3])\n",
    "print(\"Original Series:\\n\", s)\n",
    "\n",
    "# Modifying a value\n",
    "s[0] = 10\n",
    "print(\"Modified Series:\\n\", s)\n"
   ]
  },
  {
   "cell_type": "markdown",
   "id": "24dea451",
   "metadata": {},
   "source": [
    "# Q7. Create a DataFrame using multiple Series. Explain with an example."
   ]
  },
  {
   "cell_type": "code",
   "execution_count": 26,
   "id": "2103971f",
   "metadata": {},
   "outputs": [
    {
     "name": "stdout",
     "output_type": "stream",
     "text": [
      "      Name  Age         City\n",
      "0    Alice   25     New York\n",
      "1      Bob   30  Los Angeles\n",
      "2  Charlie   35      Chicago\n"
     ]
    }
   ],
   "source": [
    "import pandas as pd\n",
    "\n",
    "# Creating multiple Series\n",
    "names = pd.Series(['Alice', 'Bob', 'Charlie'])\n",
    "ages = pd.Series([25, 30, 35])\n",
    "cities = pd.Series(['New York', 'Los Angeles', 'Chicago'])\n",
    "\n",
    "# Creating a DataFrame using the Series\n",
    "df = pd.DataFrame({\n",
    "    'Name': names,\n",
    "    'Age': ages,\n",
    "    'City': cities\n",
    "})\n",
    "\n",
    "# Printing the DataFrame\n",
    "print(df)\n"
   ]
  },
  {
   "cell_type": "code",
   "execution_count": null,
   "id": "b0fb19fa",
   "metadata": {},
   "outputs": [],
   "source": []
  }
 ],
 "metadata": {
  "kernelspec": {
   "display_name": "Python 3 (ipykernel)",
   "language": "python",
   "name": "python3"
  },
  "language_info": {
   "codemirror_mode": {
    "name": "ipython",
    "version": 3
   },
   "file_extension": ".py",
   "mimetype": "text/x-python",
   "name": "python",
   "nbconvert_exporter": "python",
   "pygments_lexer": "ipython3",
   "version": "3.9.13"
  }
 },
 "nbformat": 4,
 "nbformat_minor": 5
}
